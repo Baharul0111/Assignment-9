{
 "cells": [
  {
   "cell_type": "code",
   "execution_count": 17,
   "metadata": {},
   "outputs": [],
   "source": [
    "#question 1\n",
    "'''Abstraction is the process of hiding the internal details of an application from the outer world. Abstraction is used to describe things in simple terms. It's used to create a boundary between the application and the client programs.'''\n",
    "import abc\n",
    "class abstract(abc.ABC):\n",
    "    @abc.abstractmethod\n",
    "    def func1(self):\n",
    "        pass\n",
    "    @abc.abstractmethod\n",
    "    def func2(self):\n",
    "        pass\n",
    "    @abc.abstractmethod\n",
    "    def func3(self):\n",
    "        pass\n",
    "    '''Now this class's blueprint can be used to create other classes'''\n",
    "class sub_class(abstract):\n",
    "    def func1(self):\n",
    "        return \"This is Function 1\"\n",
    "    def func2(self):\n",
    "        return \"This is Function 2\""
   ]
  },
  {
   "cell_type": "code",
   "execution_count": 18,
   "metadata": {},
   "outputs": [],
   "source": [
    "#question 2\n",
    "'''Abstraction is a design level process and it is used to reduce the complexity at the designing stage of a project. Encapsulation is an implementation level process, and it is used to provide privacy and maintain control over the transparency of data at the implementation stage of a project.'''\n",
    "#example of abstraction:\n",
    "import abc\n",
    "class abstract(abc.ABC):\n",
    "    @abc.abstractmethod\n",
    "    def func1(self):\n",
    "        pass\n",
    "    @abc.abstractmethod\n",
    "    def func2(self):\n",
    "        pass\n",
    "    @abc.abstractmethod\n",
    "    def func3(self):\n",
    "        pass\n",
    "class sub_class(abstract):\n",
    "    def func1(self):\n",
    "        return \"This is Function 1\"\n",
    "    def func2(self):\n",
    "        return \"This is Function 2\"\n",
    "    def func3(self):\n",
    "        return \"This is function 3\"\n",
    "\n",
    "#example of encapsulation\n",
    "class encap:\n",
    "    def __init__(self, a , b, c):\n",
    "        self.__a=a\n",
    "        self.__b=b\n",
    "        self.__c=c\n",
    "    def get_a(self):\n",
    "        return self.__a\n",
    "\n"
   ]
  },
  {
   "cell_type": "code",
   "execution_count": 19,
   "metadata": {},
   "outputs": [
    {
     "data": {
      "text/plain": [
       "'This module provides abstract base classes that can be used to test whether a class provides a particular interface'"
      ]
     },
     "execution_count": 19,
     "metadata": {},
     "output_type": "execute_result"
    }
   ],
   "source": [
    "#question 3\n",
    "'''This module provides abstract base classes that can be used to test whether a class provides a particular interface'''"
   ]
  },
  {
   "cell_type": "code",
   "execution_count": 20,
   "metadata": {},
   "outputs": [
    {
     "data": {
      "text/plain": [
       "'we can achieve data abstraction by using abstract classes and abstract classes can be created using abc (abstract base class) module and abstractmethod of abc module.'"
      ]
     },
     "execution_count": 20,
     "metadata": {},
     "output_type": "execute_result"
    }
   ],
   "source": [
    "#question 4\n",
    "'''we can achieve data abstraction by using abstract classes and abstract classes can be created using abc (abstract base class) module and abstractmethod of abc module.'''"
   ]
  },
  {
   "cell_type": "code",
   "execution_count": 21,
   "metadata": {},
   "outputs": [
    {
     "ename": "TypeError",
     "evalue": "Can't instantiate abstract class class1 with abstract methods class_marks, class_test",
     "output_type": "error",
     "traceback": [
      "\u001b[0;31m---------------------------------------------------------------------------\u001b[0m",
      "\u001b[0;31mTypeError\u001b[0m                                 Traceback (most recent call last)",
      "Cell \u001b[0;32mIn[21], line 13\u001b[0m\n\u001b[1;32m      9\u001b[0m     \u001b[38;5;129m@abc\u001b[39m\u001b[38;5;241m.\u001b[39mabstractmethod\n\u001b[1;32m     10\u001b[0m     \u001b[38;5;28;01mdef\u001b[39;00m \u001b[38;5;21mclass_marks\u001b[39m(\u001b[38;5;28mself\u001b[39m):\n\u001b[1;32m     11\u001b[0m         \u001b[38;5;28;01mpass\u001b[39;00m\n\u001b[0;32m---> 13\u001b[0m class_obj\u001b[38;5;241m=\u001b[39m\u001b[43mclass1\u001b[49m\u001b[43m(\u001b[49m\u001b[43m)\u001b[49m\n",
      "\u001b[0;31mTypeError\u001b[0m: Can't instantiate abstract class class1 with abstract methods class_marks, class_test"
     ]
    }
   ],
   "source": [
    "#question 5\n",
    "'''We cannot create an instance of an abstract class'''\n",
    "#example\n",
    "import abc\n",
    "class class1(abc.ABC):\n",
    "    @abc.abstractmethod\n",
    "    def class_test(self):\n",
    "        pass\n",
    "    @abc.abstractmethod\n",
    "    def class_marks(self):\n",
    "        pass\n",
    "\n",
    "class_obj=class1()"
   ]
  }
 ],
 "metadata": {
  "kernelspec": {
   "display_name": "Python 3",
   "language": "python",
   "name": "python3"
  },
  "language_info": {
   "codemirror_mode": {
    "name": "ipython",
    "version": 3
   },
   "file_extension": ".py",
   "mimetype": "text/x-python",
   "name": "python",
   "nbconvert_exporter": "python",
   "pygments_lexer": "ipython3",
   "version": "3.9.6"
  }
 },
 "nbformat": 4,
 "nbformat_minor": 2
}
